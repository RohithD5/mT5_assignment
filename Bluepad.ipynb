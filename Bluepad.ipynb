{
 "cells": [
  {
   "cell_type": "code",
   "execution_count": 89,
   "id": "103c5440",
   "metadata": {},
   "outputs": [],
   "source": [
    "import os\n",
    "import pandas as pd\n",
    "from itertools import islice\n"
   ]
  },
  {
   "cell_type": "code",
   "execution_count": 90,
   "id": "81d83c5e",
   "metadata": {},
   "outputs": [],
   "source": [
    "def prepare_translation_datasets(data_paths,start_line,stop_line):\n",
    "    with open(data_paths[0], \"r\", encoding=\"utf-8\") as f:\n",
    "        ntv_text = list(islice(f, start_line, stop_line))\n",
    "        ntv_text = [text.strip(\"\\n\") for text in ntv_text]\n",
    "    \n",
    "    with open(data_paths[1], \"r\", encoding=\"utf-8\") as f:\n",
    "        en_text = list(islice(f, start_line, stop_line))\n",
    "        en_text = [text.strip(\"\\n\") for text in en_text]\n",
    "    \n",
    "    data=[]\n",
    "    for ntv, en in zip(ntv_text,en_text):\n",
    "        data.append([\"translate native to english\", ntv, en])\n",
    "        data.append([\"translate english to native\", en, ntv])\n",
    "        \n",
    "        \n",
    "    train_df. = pd.DataFrame(data[:5919973], columns=[\"prefix\", \"input_text\", \"target_text\"])\n",
    "    eval_df = pd.DataFrame(data[5919973:], columns=[\"prefix\", \"input_text\", \"target_text\"]) \n",
    "    \n",
    "    return (train_df, eval_df)"
   ]
  },
  {
   "cell_type": "code",
   "execution_count": 91,
   "id": "58c89a82",
   "metadata": {},
   "outputs": [],
   "source": [
    "n_total=3288874\n",
    "train_df, eval_df=prepare_translation_datasets([\"en-mr/train.mr\",\"en-mr/train.en\"],0,n_total)"
   ]
  },
  {
   "cell_type": "code",
   "execution_count": 92,
   "id": "5fb4052f",
   "metadata": {},
   "outputs": [],
   "source": [
    "for i in range(20):\n",
    "    train_df[].to_csv(\"en-mr/train\"+tostr(i)+\".tsv\", sep=\"\\t\")\n",
    "    eval_df.to_csv(\"en-mr/eval\"+tostr(i)+\".tsv\", sep=\"\\t\")\n"
   ]
  },
  {
   "cell_type": "code",
   "execution_count": 8,
   "id": "7e2187a5",
   "metadata": {
    "scrolled": true
   },
   "outputs": [
    {
     "data": {
      "text/plain": [
       "'10.2'"
      ]
     },
     "execution_count": 8,
     "metadata": {},
     "output_type": "execute_result"
    }
   ],
   "source": [
    "import torch\n",
    "torch.cuda_version"
   ]
  },
  {
   "cell_type": "code",
   "execution_count": null,
   "id": "37e070a8",
   "metadata": {},
   "outputs": [],
   "source": []
  }
 ],
 "metadata": {
  "kernelspec": {
   "display_name": "st",
   "language": "python",
   "name": "st"
  },
  "language_info": {
   "codemirror_mode": {
    "name": "ipython",
    "version": 3
   },
   "file_extension": ".py",
   "mimetype": "text/x-python",
   "name": "python",
   "nbconvert_exporter": "python",
   "pygments_lexer": "ipython3",
   "version": "3.9.5"
  }
 },
 "nbformat": 4,
 "nbformat_minor": 5
}
