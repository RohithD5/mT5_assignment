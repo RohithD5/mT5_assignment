{
  "nbformat": 4,
  "nbformat_minor": 0,
  "metadata": {
    "accelerator": "GPU",
    "colab": {
      "name": "train_mt5.ipynb",
      "provenance": [],
      "collapsed_sections": []
    },
    "kernelspec": {
      "display_name": "Python 3",
      "name": "python3"
    },
    "language_info": {
      "name": "python"
    }
  },
  "cells": [
    {
      "cell_type": "code",
      "metadata": {
        "id": "U9ICA9BCMDeR"
      },
      "source": [
        "!pip install simpletransformers\n",
        "\n",
        "import logging\n",
        "import pandas as pd\n",
        "from simpletransformers.t5 import T5Model, T5Args\n",
        "import torch\n",
        "from google.colab import drive"
      ],
      "execution_count": 2,
      "outputs": []
    },
    {
      "cell_type": "code",
      "metadata": {
        "id": "x4DOQQeaMn8F"
      },
      "source": [
        "logging.basicConfig(level=logging.INFO)\n",
        "transformers_logger = logging.getLogger(\"transformers\")\n",
        "transformers_logger.setLevel(logging.WARNING)"
      ],
      "execution_count": 3,
      "outputs": []
    },
    {
      "cell_type": "code",
      "metadata": {
        "colab": {
          "base_uri": "https://localhost:8080/"
        },
        "id": "UZfo6fY8NwE6",
        "outputId": "c3a5f2a8-4299-4026-d723-c406a2266527"
      },
      "source": [
        "drive.mount('/content/drive')\n",
        "train_df = pd.read_csv(\"drive/MyDrive/Colab Notebooks/en-mr/train.tsv\", sep=\"\\t\").astype(str)\n",
        "\n",
        "\n",
        "train_df[\"prefix\"] = \"\"\n",
        "\n",
        "train_df=train_df[0:100000]\n",
        "\n",
        "model_args = T5Args()\n",
        "model_args.max_seq_length = 75\n",
        "model_args.train_batch_size = 10\n",
        "model_args.eval_batch_size = 10\n",
        "model_args.num_train_epochs = 1\n",
        "model_args.evaluate_during_training = False\n",
        "model_args.use_multiprocessing = False\n",
        "model_args.fp16 = False\n",
        "model_args.save_steps = -1\n",
        "model_args.save_eval_checkpoints = False\n",
        "model_args.no_cache = True\n",
        "model_args.reprocess_input_data = True\n",
        "model_args.overwrite_output_dir = True\n",
        "model_args.preprocess_inputs = False\n",
        "model_args.num_return_sequences = 1\n",
        "model_args.wandb_project = \"MT5 Marathi-English Translation\"\n",
        "\n",
        "model = T5Model(\"mt5\", \"google/mt5-base\", args=model_args)\n",
        "\n",
        "model.train_model(train_df)\n",
        "#torch.save(model, PATH)\n",
        "shutil.rmtree(\"drive/MyDrive/Colab Notebooks/en-mr/outputs\")\n",
        "shutil.copytree(\"outputs\", \"drive/MyDrive/Colab Notebooks/en-mr/outputs\")\n",
        "drive.flush_and_unmount()"
      ],
      "execution_count": null,
      "outputs": [
        {
          "output_type": "stream",
          "text": [
            "Mounted at /content/drive\n"
          ],
          "name": "stdout"
        }
      ]
    },
    {
      "cell_type": "code",
      "metadata": {
        "id": "wGPPItggsRIZ"
      },
      "source": [
        "for i in range(20):\n",
        "    drive.mount('/content/drive')\n",
        "    print(\"i\")\n",
        "    train_df = pd.read_csv(\"drive/MyDrive/Colab Notebooks/en-mr/train.tsv\", sep=\"\\t\").astype(str)\n",
        "\n",
        "\n",
        "    train_df[\"prefix\"] = \"\"\n",
        "\n",
        "    train_df=train_df[100000*(i+1):100000*(i+2)]\n",
        "\n",
        "    model_args = T5Args()\n",
        "    model_args.max_seq_length = 100\n",
        "    model_args.train_batch_size = 15\n",
        "    model_args.eval_batch_size = 15\n",
        "    model_args.num_train_epochs = 1\n",
        "    model_args.evaluate_during_training = False\n",
        "    model_args.use_multiprocessing = False\n",
        "    model_args.fp16 = False\n",
        "    model_args.save_steps = -1\n",
        "    model_args.save_eval_checkpoints = False\n",
        "    model_args.no_cache = True\n",
        "    model_args.reprocess_input_data = True\n",
        "    model_args.overwrite_output_dir = True\n",
        "    model_args.preprocess_inputs = False\n",
        "    model_args.num_return_sequences = 1\n",
        "    model_args.wandb_project = \"MT5 Marathi-English Translation\"\n",
        "\n",
        "    model = T5Model(\"mt5\", \"drive/MyDrive/Colab Notebooks/en-mr/outputs\", args=model_args)\n",
        "\n",
        "    model.train_model(train_df)\n",
        "    torch.save(model, PATH)\n",
        "    shutil.rmtree(\"drive/MyDrive/Colab Notebooks/en-mr/outputs\")\n",
        "    shutil.copytree(\"outputs\", \"drive/MyDrive/Colab Notebooks/en-mr/outputs\")\n",
        "    drive.flush_and_unmount()\n"
      ],
      "execution_count": null,
      "outputs": []
    },
    {
      "cell_type": "code",
      "metadata": {
        "id": "R7vGpB0aOynT"
      },
      "source": [
        "model_args = T5Args()\n",
        "model_args.max_seq_length = 50\n",
        "model_args.train_batch_size = 5\n",
        "model_args.eval_batch_size = 5\n",
        "model_args.num_train_epochs = 1\n",
        "model_args.evaluate_during_training = False\n",
        "model_args.use_multiprocessing = False\n",
        "model_args.fp16 = False\n",
        "model_args.save_steps = -1\n",
        "model_args.save_eval_checkpoints = False\n",
        "model_args.no_cache = True\n",
        "model_args.reprocess_input_data = True\n",
        "model_args.overwrite_output_dir = True\n",
        "model_args.preprocess_inputs = False\n",
        "model_args.num_return_sequences = 1\n",
        "model_args.wandb_project = \"MT5 Marathi-English Translation\"\n",
        "\n",
        "model = T5Model(\"mt5\", \"google/mt5-base\", args=model_args)\n",
        "\n"
      ],
      "execution_count": null,
      "outputs": []
    },
    {
      "cell_type": "code",
      "metadata": {
        "id": "dai3JPJ5mV4e"
      },
      "source": [
        "n = 100\n",
        "PATH=\"drive/MyDrive/Colab Notebooks/en-mr/models/model.pth\""
      ],
      "execution_count": null,
      "outputs": []
    },
    {
      "cell_type": "code",
      "metadata": {
        "id": "53NLpoXkmSOg"
      },
      "source": [
        "for i in range(1):\n",
        "    model.train_model(train_df[int(len(train_df)*(n/100))*i:int(len(train_df)*(n/100))*(i+1)])\n",
        "    torch.save(model, PATH)\n",
        "    wandb.finish()"
      ],
      "execution_count": null,
      "outputs": []
    },
    {
      "cell_type": "code",
      "metadata": {
        "id": "cq3n2j2WmLv6"
      },
      "source": [
        "model_args.evaluate_during_training"
      ],
      "execution_count": null,
      "outputs": []
    },
    {
      "cell_type": "code",
      "metadata": {
        "id": "NT48OXTGpSPG"
      },
      "source": [
        "train_df[int(len(train_df)*(n/100))*i:int(len(train_df)*(n/100))*(i+1)]"
      ],
      "execution_count": null,
      "outputs": []
    },
    {
      "cell_type": "code",
      "metadata": {
        "id": "XuYQQ9ue-nmz"
      },
      "source": [
        "train_df = pd.read_csv(\"drive/MyDrive/Colab Notebooks/en-mr/train.tsv\", sep=\"\\t\").astype(str)\n",
        "\n",
        "train_df[\"prefix\"] = \"\"\n",
        "\n",
        "train_df=train_df[100000:200000]\n"
      ],
      "execution_count": null,
      "outputs": []
    },
    {
      "cell_type": "code",
      "metadata": {
        "id": "hvuRYkUs_C9T"
      },
      "source": [
        "model_args = T5Args()\n",
        "model_args.max_seq_length = 50\n",
        "model_args.train_batch_size = 8\n",
        "model_args.eval_batch_size = 8\n",
        "model_args.num_train_epochs = 1\n",
        "model_args.evaluate_during_training = False\n",
        "model_args.use_multiprocessing = False\n",
        "model_args.fp16 = False\n",
        "model_args.save_steps = -1\n",
        "model_args.save_eval_checkpoints = False\n",
        "model_args.no_cache = True\n",
        "model_args.reprocess_input_data = True\n",
        "model_args.overwrite_output_dir = True\n",
        "model_args.preprocess_inputs = False\n",
        "model_args.num_return_sequences = 1\n",
        "model_args.wandb_project = \"MT5 Marathi-English Translation\"\n",
        "\n",
        "model = T5Model(\"mt5\", \"outputs\", args=model_args)\n"
      ],
      "execution_count": null,
      "outputs": []
    },
    {
      "cell_type": "code",
      "metadata": {
        "id": "ACz50wmTlmNB"
      },
      "source": [
        "for i in range(1):\n",
        "    model.train_model(train_df[int(len(train_df)*(n/100))*i:int(len(train_df)*(n/100))*(i+1)])\n",
        "    torch.save(model, PATH)"
      ],
      "execution_count": null,
      "outputs": []
    },
    {
      "cell_type": "code",
      "metadata": {
        "id": "AkZS_hv0Nc56"
      },
      "source": [
        "import shutil\n"
      ],
      "execution_count": null,
      "outputs": []
    },
    {
      "cell_type": "code",
      "metadata": {
        "id": "uS4A2HQtNdM3"
      },
      "source": [
        "src=\"outputs\"\n",
        "\n",
        "shutil.copytree(\"outputs\", \"drive/MyDrive/Colab Notebooks/en-mr/outputs\")\n",
        "drive.flush_and_unmount()\n"
      ],
      "execution_count": null,
      "outputs": []
    },
    {
      "cell_type": "code",
      "metadata": {
        "id": "M00Ybr5nwcHg"
      },
      "source": [
        ""
      ],
      "execution_count": null,
      "outputs": []
    }
  ]
}